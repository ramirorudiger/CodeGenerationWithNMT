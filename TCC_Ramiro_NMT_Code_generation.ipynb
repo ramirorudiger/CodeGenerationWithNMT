{
  "nbformat": 4,
  "nbformat_minor": 0,
  "metadata": {
    "colab": {
      "provenance": [],
      "authorship_tag": "ABX9TyNfVpAGKewQ2CderGNY8LY6",
      "include_colab_link": true
    },
    "kernelspec": {
      "name": "python3",
      "display_name": "Python 3"
    },
    "language_info": {
      "name": "python"
    },
    "accelerator": "GPU",
    "gpuClass": "standard"
  },
  "cells": [
    {
      "cell_type": "markdown",
      "metadata": {
        "id": "view-in-github",
        "colab_type": "text"
      },
      "source": [
        "<a href=\"https://colab.research.google.com/github/ramirorudiger/RamiroNMTCG/blob/main/TCC_Ramiro_NMT_Code_generation.ipynb\" target=\"_parent\"><img src=\"https://colab.research.google.com/assets/colab-badge.svg\" alt=\"Open In Colab\"/></a>"
      ]
    },
    {
      "cell_type": "code",
      "execution_count": 43,
      "metadata": {
        "id": "w70NMwpZQg5m"
      },
      "outputs": [],
      "source": [
        "%matplotlib inline"
      ]
    },
    {
      "cell_type": "markdown",
      "source": [
        "**Intro**\n",
        "\n",
        "Neste projeto utilizo técnicas de tradução de máquina com redes neurais (neuro machine translation) para traduzir uma linguagem natural para código python. \n",
        "\n",
        "O framework utilizado aqui foi o pytorch (https://pytorch.org/)"
      ],
      "metadata": {
        "id": "-hEuNNoqQ54f"
      }
    },
    {
      "cell_type": "code",
      "source": [
        "#imports\n",
        "from __future__ import unicode_literals, print_function, division\n",
        "from io import open\n",
        "import unicodedata\n",
        "import string\n",
        "import re\n",
        "import random\n",
        "\n",
        "import torch\n",
        "import torch.nn as nn\n",
        "from torch import optim\n",
        "import torch.nn.functional as F\n",
        "from tqdm import tqdm\n",
        "\n",
        "\n",
        "device = torch.device(\"cuda\" if torch.cuda.is_available() else \"cpu\")"
      ],
      "metadata": {
        "id": "Cx_mWrkGQmBu"
      },
      "execution_count": 2,
      "outputs": []
    },
    {
      "cell_type": "markdown",
      "source": [
        "Download arquivos de dados\n"
      ],
      "metadata": {
        "id": "Ps-I9oqQQzpB"
      }
    },
    {
      "cell_type": "code",
      "source": [
        "!wget https://raw.githubusercontent.com/ramirorudiger/RamiroNMTCG/main/data/django_data.csv\n",
        "!wget https://raw.githubusercontent.com/ramirorudiger/RamiroNMTCG/main/data/django_data_test.csv\n",
        "!wget https://raw.githubusercontent.com/ramirorudiger/RamiroNMTCG/main/data/conala_test.csv\n",
        "!wget https://raw.githubusercontent.com/ramirorudiger/RamiroNMTCG/main/data/conala_train.csv\n",
        "!wget https://raw.githubusercontent.com/ramirorudiger/RamiroNMTCG/main/data/django_train2.csv\n",
        "!wget https://raw.githubusercontent.com/ramirorudiger/RamiroNMTCG/main/data/django_test2.csv"
      ],
      "metadata": {
        "colab": {
          "base_uri": "https://localhost:8080/"
        },
        "id": "MF91GtX3QtfX",
        "outputId": "219ade52-e344-48d4-9f36-40bb878d2bd2"
      },
      "execution_count": 3,
      "outputs": [
        {
          "output_type": "stream",
          "name": "stdout",
          "text": [
            "--2023-03-16 12:11:59--  https://raw.githubusercontent.com/ramirorudiger/RamiroNMTCG/main/data/django_data.csv\n",
            "Resolving raw.githubusercontent.com (raw.githubusercontent.com)... 185.199.108.133, 185.199.109.133, 185.199.110.133, ...\n",
            "Connecting to raw.githubusercontent.com (raw.githubusercontent.com)|185.199.108.133|:443... connected.\n",
            "HTTP request sent, awaiting response... 200 OK\n",
            "Length: 1960932 (1.9M) [text/plain]\n",
            "Saving to: ‘django_data.csv’\n",
            "\n",
            "django_data.csv     100%[===================>]   1.87M  --.-KB/s    in 0.06s   \n",
            "\n",
            "2023-03-16 12:11:59 (31.1 MB/s) - ‘django_data.csv’ saved [1960932/1960932]\n",
            "\n",
            "--2023-03-16 12:12:00--  https://raw.githubusercontent.com/ramirorudiger/RamiroNMTCG/main/data/django_data_test.csv\n",
            "Resolving raw.githubusercontent.com (raw.githubusercontent.com)... 185.199.108.133, 185.199.109.133, 185.199.110.133, ...\n",
            "Connecting to raw.githubusercontent.com (raw.githubusercontent.com)|185.199.108.133|:443... connected.\n",
            "HTTP request sent, awaiting response... 200 OK\n",
            "Length: 206420 (202K) [text/plain]\n",
            "Saving to: ‘django_data_test.csv’\n",
            "\n",
            "django_data_test.cs 100%[===================>] 201.58K  --.-KB/s    in 0.02s   \n",
            "\n",
            "2023-03-16 12:12:00 (8.02 MB/s) - ‘django_data_test.csv’ saved [206420/206420]\n",
            "\n",
            "--2023-03-16 12:12:00--  https://raw.githubusercontent.com/ramirorudiger/RamiroNMTCG/main/data/conala_test.csv\n",
            "Resolving raw.githubusercontent.com (raw.githubusercontent.com)... 185.199.110.133, 185.199.111.133, 185.199.109.133, ...\n",
            "Connecting to raw.githubusercontent.com (raw.githubusercontent.com)|185.199.110.133|:443... connected.\n",
            "HTTP request sent, awaiting response... 200 OK\n",
            "Length: 51797 (51K) [text/plain]\n",
            "Saving to: ‘conala_test.csv’\n",
            "\n",
            "conala_test.csv     100%[===================>]  50.58K  --.-KB/s    in 0.01s   \n",
            "\n",
            "2023-03-16 12:12:00 (4.55 MB/s) - ‘conala_test.csv’ saved [51797/51797]\n",
            "\n",
            "--2023-03-16 12:12:00--  https://raw.githubusercontent.com/ramirorudiger/RamiroNMTCG/main/data/conala_train.csv\n",
            "Resolving raw.githubusercontent.com (raw.githubusercontent.com)... 185.199.111.133, 185.199.109.133, 185.199.108.133, ...\n",
            "Connecting to raw.githubusercontent.com (raw.githubusercontent.com)|185.199.111.133|:443... connected.\n",
            "HTTP request sent, awaiting response... 200 OK\n",
            "Length: 2318181 (2.2M) [text/plain]\n",
            "Saving to: ‘conala_train.csv’\n",
            "\n",
            "conala_train.csv    100%[===================>]   2.21M  --.-KB/s    in 0.06s   \n",
            "\n",
            "2023-03-16 12:12:01 (34.3 MB/s) - ‘conala_train.csv’ saved [2318181/2318181]\n",
            "\n",
            "--2023-03-16 12:12:01--  https://raw.githubusercontent.com/ramirorudiger/RamiroNMTCG/main/data/django_train2.csv\n",
            "Resolving raw.githubusercontent.com (raw.githubusercontent.com)... 185.199.111.133, 185.199.110.133, 185.199.109.133, ...\n",
            "Connecting to raw.githubusercontent.com (raw.githubusercontent.com)|185.199.111.133|:443... connected.\n",
            "HTTP request sent, awaiting response... 200 OK\n",
            "Length: 1913855 (1.8M) [text/plain]\n",
            "Saving to: ‘django_train2.csv’\n",
            "\n",
            "django_train2.csv   100%[===================>]   1.82M  --.-KB/s    in 0.06s   \n",
            "\n",
            "2023-03-16 12:12:01 (31.0 MB/s) - ‘django_train2.csv’ saved [1913855/1913855]\n",
            "\n",
            "--2023-03-16 12:12:01--  https://raw.githubusercontent.com/ramirorudiger/RamiroNMTCG/main/data/django_test2.csv\n",
            "Resolving raw.githubusercontent.com (raw.githubusercontent.com)... 185.199.108.133, 185.199.109.133, 185.199.110.133, ...\n",
            "Connecting to raw.githubusercontent.com (raw.githubusercontent.com)|185.199.108.133|:443... connected.\n",
            "HTTP request sent, awaiting response... 200 OK\n",
            "Length: 226086 (221K) [text/plain]\n",
            "Saving to: ‘django_test2.csv’\n",
            "\n",
            "django_test2.csv    100%[===================>] 220.79K  --.-KB/s    in 0.02s   \n",
            "\n",
            "2023-03-16 12:12:02 (8.71 MB/s) - ‘django_test2.csv’ saved [226086/226086]\n",
            "\n"
          ]
        }
      ]
    },
    {
      "cell_type": "markdown",
      "source": [
        "Funções de limpeza de código"
      ],
      "metadata": {
        "id": "g5frFx7JRxAp"
      }
    },
    {
      "cell_type": "code",
      "source": [
        "# Turn a Unicode string to plain ASCII, thanks to\n",
        "# https://stackoverflow.com/a/518232/2809427\n",
        "def unicodeToAscii(s):\n",
        "    return ''.join(\n",
        "        c for c in unicodedata.normalize('NFD', s)\n",
        "        if unicodedata.category(c) != 'Mn'\n",
        "    )\n",
        "\n",
        "# Lowercase, trim, and remove non-letter characters\n",
        "\n",
        "\n",
        "def normalizeString(s):\n",
        "    s = unicodeToAscii(s.lower().strip())\n",
        "    s = re.sub(r\"([.!?])\", r\" \\1\", s)\n",
        "    s = re.sub(r\"([.!?])\", r\"\", s)\n",
        "    s = re.sub(r\"([.!?])\", r\" \\1\", s)\n",
        "    s = re.sub(r\"[^a-zA-Z.!?]+\", r\" \", s)\n",
        "    return s\n",
        "\n",
        "print(normalizeString('def soma(self, a, b):\\nself.soma(a, b)'))"
      ],
      "metadata": {
        "colab": {
          "base_uri": "https://localhost:8080/"
        },
        "id": "5a3y52MYRnbg",
        "outputId": "8ed2214f-be8a-4a35-cb54-816708655b3e"
      },
      "execution_count": 4,
      "outputs": [
        {
          "output_type": "stream",
          "name": "stdout",
          "text": [
            "def soma self a b self soma a b \n"
          ]
        }
      ]
    },
    {
      "cell_type": "markdown",
      "source": [
        "Estrutura de dados da linguagem"
      ],
      "metadata": {
        "id": "29hDTvhrTtFb"
      }
    },
    {
      "cell_type": "code",
      "source": [
        "def indexesFromSentence(lang, sentence):\n",
        "    return [lang.word2index[word] if word in lang.word2index else EMP_token for word in sentence.split(' ')]\n",
        "\n",
        "\n",
        "def tensorFromSentence(lang, sentence):\n",
        "    indexes = indexesFromSentence(lang, sentence)\n",
        "    indexes.append(EOS_token)\n",
        "    return torch.tensor(indexes, dtype=torch.long, device=device).view(-1, 1)\n",
        "\n",
        "\n",
        "def tensorsFromPair(pair):\n",
        "    input_tensor = tensorFromSentence(input_lang, pair[0])\n",
        "    target_tensor = tensorFromSentence(output_lang, pair[1])\n",
        "    return (input_tensor, target_tensor)\n",
        "\n",
        "\n",
        "SOS_token = 0\n",
        "EOS_token = 1\n",
        "EMP_token = 2\n",
        "\n",
        "\n",
        "class Lang:\n",
        "    def __init__(self, name):\n",
        "        self.name = name\n",
        "        self.word2index = {}\n",
        "        self.word2count = {}\n",
        "        self.index2word = {0: \"SOS\", 1: \"EOS\", 2: \"EMP\"}\n",
        "        self.n_words = 3  # Count SOS and EOS\n",
        "\n",
        "    def addSentence(self, sentence):\n",
        "        for word in sentence.split(' '):\n",
        "            self.addWord(word)\n",
        "\n",
        "    def addWord(self, word):\n",
        "        if word not in self.word2index:\n",
        "            self.word2index[word] = self.n_words\n",
        "            self.word2count[word] = 1\n",
        "            self.index2word[self.n_words] = word\n",
        "            self.n_words += 1\n",
        "        else:\n",
        "            self.word2count[word] += 1"
      ],
      "metadata": {
        "id": "He6wEcncTqxE"
      },
      "execution_count": 5,
      "outputs": []
    },
    {
      "cell_type": "markdown",
      "source": [
        "Carga do dataset na estrutura de dados"
      ],
      "metadata": {
        "id": "554nhEMdR60e"
      }
    },
    {
      "cell_type": "code",
      "source": [
        "import pandas as pd\n",
        "\n",
        "\n",
        "\n",
        "def readLangs(lang1, lang2, train_file, reverse=False):\n",
        "    df = pd.read_csv(train_file, delimiter=',')\n",
        "    df.dropna(inplace=True)\n",
        "    df = df.reset_index()  # make sure indexes pair with number of rows\n",
        "\n",
        "    pairs = [[normalizeString(row['nl']), normalizeString(row['code'])] for index, row in df.iterrows()]\n",
        "    \n",
        "    if reverse:\n",
        "        pairs = [list(reversed(p)) for p in pairs]\n",
        "        input_lang = Lang(lang2)\n",
        "        output_lang = Lang(lang1)\n",
        "    else:\n",
        "        input_lang = Lang(lang1)\n",
        "        output_lang = Lang(lang2)\n",
        "\n",
        "    max_length = 0\n",
        "    for item in pairs:\n",
        "        if len(item[0]) > max_length:\n",
        "            max_length = len(item[0])\n",
        "        if len(item[1]) > max_length:\n",
        "            max_length = len(item[1])\n",
        "    print('maior número: %d' % max_length)\n",
        "    return input_lang, output_lang, pairs, max_length\n",
        "\n",
        "def prepareData(lang1, lang2, train_file, reverse=False):\n",
        "    input_lang, output_lang, pairs, max_length = readLangs(lang1, lang2, train_file, reverse)\n",
        "    for pair in pairs:\n",
        "        input_lang.addSentence(pair[0])\n",
        "        output_lang.addSentence(pair[1])\n",
        "    print(\"Counted words:\")\n",
        "    print(input_lang.name, input_lang.n_words)\n",
        "    print(output_lang.name, output_lang.n_words)\n",
        "    return input_lang, output_lang, pairs, max_length\n",
        "\n"
      ],
      "metadata": {
        "id": "s3Ct5JHXR6M5"
      },
      "execution_count": 6,
      "outputs": []
    },
    {
      "cell_type": "markdown",
      "source": [
        "Classe do encoder e do Decoder da arquitetura:\n",
        "\n",
        "\n",
        "![desenhosTCC.drawio (1).png](data:image/png;base64,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)\n"
      ],
      "metadata": {
        "id": "4yfSSQ1VUjFR"
      }
    },
    {
      "cell_type": "code",
      "source": [
        "class EncoderRNN(nn.Module):\n",
        "    def __init__(self, input_size, hidden_size):\n",
        "        super(EncoderRNN, self).__init__()\n",
        "        self.hidden_size = hidden_size\n",
        "\n",
        "        self.embedding = nn.Embedding(input_size, hidden_size)\n",
        "        self.gru = nn.GRU(hidden_size, hidden_size)\n",
        "        self.ln = nn.Linear(hidden_size, input_size)\n",
        "\n",
        "    def forward(self, input, hidden):\n",
        "        embedded = self.embedding(input).view(1, 1, -1)\n",
        "        output = embedded\n",
        "        output, hidden = self.gru(output, hidden)\n",
        "        #output = self.ln(output)\n",
        "        return output, hidden\n",
        "\n",
        "    def initHidden(self):\n",
        "        return torch.zeros(1, 1, self.hidden_size, device=device)\n",
        "\n",
        "\n",
        "class AttnDecoderRNN(nn.Module):\n",
        "    def __init__(self, hidden_size, output_size, max_length, dropout_p=0.1):\n",
        "        super(AttnDecoderRNN, self).__init__()\n",
        "        self.hidden_size = hidden_size\n",
        "        self.output_size = output_size\n",
        "        self.dropout_p = dropout_p\n",
        "        self.max_length = max_length\n",
        "\n",
        "        self.embedding = nn.Embedding(self.output_size, self.hidden_size)\n",
        "        self.attn = nn.Linear(self.hidden_size * 2, self.max_length)\n",
        "        self.attn_combine = nn.Linear(self.hidden_size * 2, self.hidden_size)\n",
        "        self.dropout = nn.Dropout(self.dropout_p)\n",
        "        self.gru = nn.GRU(self.hidden_size, self.hidden_size)\n",
        "        self.out = nn.Linear(self.hidden_size, self.output_size)\n",
        "\n",
        "    def forward(self, input, hidden, encoder_outputs):\n",
        "        embedded = self.embedding(input).view(1, 1, -1)\n",
        "        embedded = self.dropout(embedded)\n",
        "\n",
        "        attn_weights = F.softmax(\n",
        "            self.attn(torch.cat((embedded[0], hidden[0]), 1)), dim=1)\n",
        "        attn_applied = torch.bmm(attn_weights.unsqueeze(0),\n",
        "                                 encoder_outputs.unsqueeze(0))\n",
        "\n",
        "        output = torch.cat((embedded[0], attn_applied[0]), 1)\n",
        "        output = self.attn_combine(output).unsqueeze(0)\n",
        "\n",
        "        output = F.relu(output)\n",
        "        output, hidden = self.gru(output, hidden)\n",
        "\n",
        "        output = F.log_softmax(self.out(output[0]), dim=1)\n",
        "        return output, hidden, attn_weights\n",
        "\n",
        "    def initHidden(self):\n",
        "        return torch.zeros(1, 1, self.hidden_size, device=device)"
      ],
      "metadata": {
        "id": "kVTGN1uBUa3n"
      },
      "execution_count": 7,
      "outputs": []
    },
    {
      "cell_type": "markdown",
      "source": [
        "Funções para treinamento"
      ],
      "metadata": {
        "id": "4BBbMa8PaDI0"
      }
    },
    {
      "cell_type": "code",
      "source": [
        "teacher_forcing_ratio = 0.5\n",
        "\n",
        "def train(input_tensor, target_tensor, encoder, decoder, encoder_optimizer, decoder_optimizer, criterion, max_length):\n",
        "  encoder_hidden = encoder.initHidden()\n",
        "\n",
        "  encoder_optimizer.zero_grad()\n",
        "  decoder_optimizer.zero_grad()\n",
        "\n",
        "  input_length = input_tensor.size(0)\n",
        "  target_length = target_tensor.size(0)\n",
        "\n",
        "  encoder_outputs = torch.zeros(max_length, encoder.hidden_size, device=device)\n",
        "\n",
        "  loss = 0\n",
        "\n",
        "  for ei in range(input_length):\n",
        "      encoder_output, encoder_hidden = encoder(\n",
        "          input_tensor[ei], encoder_hidden)\n",
        "      encoder_outputs[ei] = encoder_output[0, 0]\n",
        "\n",
        "  decoder_input = torch.tensor([[SOS_token]], device=device)\n",
        "\n",
        "  decoder_hidden = encoder_hidden\n",
        "\n",
        "  use_teacher_forcing = True if random.random() < teacher_forcing_ratio else False\n",
        "\n",
        "  if use_teacher_forcing:\n",
        "      for di in range(target_length):\n",
        "          decoder_output, decoder_hidden, decoder_attention = decoder(\n",
        "              decoder_input, decoder_hidden, encoder_outputs)\n",
        "          loss += criterion(decoder_output, target_tensor[di])\n",
        "          decoder_input = target_tensor[di]  \n",
        "\n",
        "  else:\n",
        "      for di in range(target_length):\n",
        "          decoder_output, decoder_hidden, decoder_attention = decoder(\n",
        "              decoder_input, decoder_hidden, encoder_outputs)\n",
        "          topv, topi = decoder_output.topk(1)\n",
        "          decoder_input = topi.squeeze().detach()\n",
        "\n",
        "          loss += criterion(decoder_output, target_tensor[di])\n",
        "          if decoder_input.item() == EOS_token:\n",
        "              break\n",
        "\n",
        "  loss.backward()\n",
        "\n",
        "  encoder_optimizer.step()\n",
        "  decoder_optimizer.step()\n",
        "\n",
        "  return loss.item() / target_length"
      ],
      "metadata": {
        "id": "iaF3OewnTSMj"
      },
      "execution_count": 8,
      "outputs": []
    },
    {
      "cell_type": "code",
      "source": [
        "import time\n",
        "import math\n",
        "\n",
        "\n",
        "def asMinutes(s):\n",
        "  m = math.floor(s / 60)\n",
        "  s -= m * 60\n",
        "  return '%dm %ds' % (m, s)\n",
        "\n",
        "\n",
        "def timeSince(since, percent):\n",
        "  now = time.time()\n",
        "  s = now - since\n",
        "  es = s / (percent)\n",
        "  rs = es - s\n",
        "  return '%s (- %s)' % (asMinutes(s), asMinutes(rs))"
      ],
      "metadata": {
        "id": "kk7nWvTUTNNG"
      },
      "execution_count": 9,
      "outputs": []
    },
    {
      "cell_type": "code",
      "source": [
        "import matplotlib.pyplot as plt\n",
        "#plt.switch_backend('agg')\n",
        "import matplotlib.ticker as ticker\n",
        "import numpy as np\n",
        "\n",
        "def show_plot2(points):\n",
        "  ypoints = np.array(points)\n",
        "\n",
        "  plt.plot(ypoints, linestyle = 'dotted')\n",
        "  plt.show()\n",
        "  \n",
        "def showPlot(points):\n",
        "  plt.figure()\n",
        "  fig, ax = plt.subplots()\n",
        "  # this locator puts ticks at regular intervals\n",
        "  loc = ticker.MultipleLocator(base=0.2)\n",
        "  ax.yaxis.set_major_locator(loc)\n",
        "  plt.plot(points)\n",
        "\n",
        "  "
      ],
      "metadata": {
        "id": "nCjDYliUVUOx"
      },
      "execution_count": 36,
      "outputs": []
    },
    {
      "cell_type": "code",
      "source": [
        "from tqdm import tqdm\n",
        "from numpy import asarray\n",
        "from numpy import savetxt\n",
        "\n",
        "def save_losses(file_name, losses):\n",
        "  data = asarray(losses)\n",
        "  savetxt(file_name, data, delimiter=',')\n",
        "\n",
        "def trainIters(encoder, decoder, n_iters, max_length, print_every=1000, plot_every=100, learning_rate=0.01):\n",
        "  start = time.time()\n",
        "  plot_losses = []\n",
        "  print_loss_total = 0\n",
        "  plot_loss_total = 0\n",
        "\n",
        "  encoder_optimizer = optim.AdamW(encoder.parameters(), lr=learning_rate)\n",
        "  decoder_optimizer = optim.AdamW(decoder.parameters(), lr=learning_rate)\n",
        "\n",
        "  training_pairs = [tensorsFromPair(random.choice(pairs))\n",
        "                    for i in range(n_iters)]\n",
        "  criterion = nn.NLLLoss()\n",
        "  with tqdm(total=100) as pbar:\n",
        "    for iter in range(1, n_iters + 1):\n",
        "      training_pair = training_pairs[iter - 1]\n",
        "      input_tensor = training_pair[0]\n",
        "      target_tensor = training_pair[1]\n",
        "\n",
        "      loss = train(input_tensor, target_tensor, encoder,\n",
        "                  decoder, encoder_optimizer, decoder_optimizer, criterion, max_length)\n",
        "      print_loss_total += loss\n",
        "      plot_loss_total += loss\n",
        "      pbar.update(iter / n_iters * 100)\n",
        "      \n",
        "      if iter % print_every == 0:\n",
        "        print_loss_avg = print_loss_total / print_every\n",
        "        print_loss_total = 0\n",
        "        pbar.set_description('%s (%d %d%%) %.4f' % (timeSince(start, iter / n_iters),\n",
        "                                      iter, iter / n_iters * 100, print_loss_avg))\n",
        "\n",
        "      if iter % plot_every == 0:\n",
        "        plot_loss_avg = plot_loss_total / plot_every\n",
        "        plot_losses.append(plot_loss_avg)\n",
        "        plot_loss_total = 0\n",
        "      if iter % 50000 == 0:\n",
        "        save_losses(f'losses_{iter}.csv', plot_losses)\n",
        "\n",
        "  show_plot2(plot_losses)"
      ],
      "metadata": {
        "id": "-WCQ4mOXVLQI"
      },
      "execution_count": 50,
      "outputs": []
    },
    {
      "cell_type": "code",
      "source": [
        "def evaluate(encoder, decoder, sentence, max_length):\n",
        "    with torch.no_grad():\n",
        "        input_tensor = tensorFromSentence(input_lang, sentence)\n",
        "        input_length = input_tensor.size()[0]\n",
        "        encoder_hidden = encoder.initHidden()\n",
        "\n",
        "        encoder_outputs = torch.zeros(max_length, encoder.hidden_size, device=device)\n",
        "\n",
        "        for ei in range(input_length):\n",
        "            encoder_output, encoder_hidden = encoder(input_tensor[ei],\n",
        "                                                     encoder_hidden)\n",
        "            encoder_outputs[ei] += encoder_output[0, 0]\n",
        "\n",
        "        decoder_input = torch.tensor([[SOS_token]], device=device)  # SOS\n",
        "\n",
        "        decoder_hidden = encoder_hidden\n",
        "\n",
        "        decoded_words = []\n",
        "        decoder_attentions = torch.zeros(max_length, max_length)\n",
        "\n",
        "        for di in range(max_length):\n",
        "            decoder_output, decoder_hidden, decoder_attention = decoder(\n",
        "                decoder_input, decoder_hidden, encoder_outputs)\n",
        "            decoder_attentions[di] = decoder_attention.data\n",
        "            topv, topi = decoder_output.data.topk(1)\n",
        "            if topi.item() == EOS_token:\n",
        "                decoded_words.append('<EOS>')\n",
        "                break\n",
        "            else:\n",
        "                decoded_words.append(output_lang.index2word[topi.item()])\n",
        "\n",
        "            decoder_input = topi.squeeze().detach()\n",
        "\n",
        "        return decoded_words, decoder_attentions[:di + 1]"
      ],
      "metadata": {
        "id": "ZAPTDEFyVbeb"
      },
      "execution_count": 12,
      "outputs": []
    },
    {
      "cell_type": "code",
      "source": [
        "def evaluateRandomly(encoder, decoder, max_length, n=10):\n",
        "    for i in range(n):\n",
        "        pair = random.choice(pairs)\n",
        "        print('>', pair[0])\n",
        "        print('=', pair[1])\n",
        "        output_words, attentions = evaluate(encoder, decoder, pair[0], max_length)\n",
        "        output_sentence = ' '.join(output_words)\n",
        "        print('<', output_sentence)\n",
        "        print('')"
      ],
      "metadata": {
        "id": "JNC-_OoiVfVE"
      },
      "execution_count": 13,
      "outputs": []
    },
    {
      "cell_type": "code",
      "source": [
        "train_file = \"django_train2.csv\"\n",
        "test_file = \"django_test2.csv\"\n",
        "\n",
        "input_lang, output_lang, pairs, MAX_LENGTH = prepareData('nl', 'django', train_file, reverse=False)\n",
        "\n",
        "hidden_size = 256\n",
        "encoder1 = EncoderRNN(input_lang.n_words, hidden_size).to(device)\n",
        "attn_decoder1 = AttnDecoderRNN(hidden_size, output_lang.n_words, MAX_LENGTH, dropout_p=0.1).to(device)\n",
        "#att_decoder_multihead = MultiHeadAttentionLayer( hidden_size, 256, 0.1, device).to(device)\n",
        "trainIters(encoder1, attn_decoder1, 500000, MAX_LENGTH, print_every=500, learning_rate=0.0003)\n",
        "#evaluateRandomly(encoder1, attn_decoder1)"
      ],
      "metadata": {
        "colab": {
          "base_uri": "https://localhost:8080/",
          "height": 407
        },
        "id": "UWFGdEs2ViSp",
        "outputId": "d966589d-2247-4334-df1e-6a2bf7138c61"
      },
      "execution_count": 51,
      "outputs": [
        {
          "metadata": {
            "tags": null
          },
          "name": "stdout",
          "output_type": "stream",
          "text": [
            "maior número: 2775\n",
            "Counted words:\n",
            "nl 3670\n",
            "django 3381\n"
          ]
        },
        {
          "output_type": "stream",
          "name": "stderr",
          "text": [
            "0m 44s (- 739m 27s) (500 0%) 4.2074: 100%|█████████▉| 99.50059999999998/100 [00:19<00:00, 11.32it/s]/usr/local/lib/python3.9/dist-packages/tqdm/std.py:524: TqdmWarning: clamping frac to range [0, 1]\n",
            "  full_bar = Bar(frac,\n",
            "181m 42s (- 0m 0s) (500000 100%) 0.3699: : 25000050.000000007it [3:01:08, 2300.33it/s]\n"
          ]
        },
        {
          "output_type": "display_data",
          "data": {
            "text/plain": [
              "<Figure size 432x288 with 1 Axes>"
            ],
            "image/png": "[encoded data removed]"
          },
          "metadata": {
            "needs_background": "light"
          }
        }
      ]
    },
    {
      "cell_type": "code",
      "source": [
        "train_file = \"django_train2.csv\"\n",
        "test_file = \"django_test2.csv\""
      ],
      "metadata": {
        "id": "f5H_8NvNnW_j"
      },
      "execution_count": 52,
      "outputs": []
    },
    {
      "cell_type": "code",
      "source": [
        "from torchtext.data.metrics import bleu_score\n",
        "\n",
        "expected_list = []\n",
        "model_output_list = []\n",
        "\n",
        "def bleu(expected, translated):\n",
        "    return bleu_score(translated, expected)\n",
        "\n",
        "def evaluatePrecision(test_pairs, encoder, decoder, max_length):\n",
        "  total_eval = len(test_pairs)\n",
        "  correct = 0\n",
        "\n",
        "  with tqdm(total=total_eval) as pbar:\n",
        "    for i in range(total_eval):\n",
        "      pair = test_pairs[i]\n",
        "      output_words, attentions = evaluate(encoder, decoder, pair[0], max_length)\n",
        "      output_sentence = (' '.join(output_words)).replace('<EOS>', '')\n",
        "      #.replace(' ', '')\n",
        "      model_output_list.append(\" \".join(output_sentence.split()))\n",
        "      result = \" \".join(pair[1].split())\n",
        "      #result = result.replace(' ', '')\n",
        "      expected_list.append(result)\n",
        "      pbar.update(i / total_eval * 100)\n",
        "      pbar.set_description(f'iteracao: {i} / {total_eval}')\n",
        "      if output_sentence.replace(' ', '') == result.replace(' ', ''):\n",
        "        correct += 1\n",
        "\n",
        "  with open('test1.txt','w') as tfile:\n",
        "\t  tfile.write('\\n'.join(expected_list))\n",
        "  with open('out1.txt','w') as tfile:\n",
        "\t  tfile.write('\\n'.join(model_output_list))  \n",
        "  #print(expected_list)\n",
        "  #print(model_output_list)\n",
        "  print('total testado: %d' % total_eval)\n",
        "  print('total correto: %d' % correct)\n",
        "  print('exact match accuracy: %.2f%%' % (( correct / total_eval) * 100))\n",
        "  \n",
        "  return  ( correct / total_eval) * 100\n",
        "\n",
        "def evaluate_expression(expression, encoder, decoder):\n",
        "  output_words, attentions = evaluate(encoder, decoder, expression)\n",
        "  output_sentence = ' '.join(output_words)\n",
        "  return output_sentence"
      ],
      "metadata": {
        "id": "G9I9qTSIVy08"
      },
      "execution_count": 82,
      "outputs": []
    },
    {
      "cell_type": "code",
      "source": [
        "from torchtext.data.metrics import bleu_score\n",
        "from google.colab import drive\n",
        "\n",
        "params_names = '500k_256hidden__dropout-10percent_adam_0.0003_nolinearenc2'\n",
        "\n",
        "def save_model():\n",
        "  drive.mount('/content/drive')\n",
        "  torch.save(encoder1, f'encoder_{params_names}')\n",
        "  torch.save(attn_decoder1, f'decoder_{params_names}')\n",
        "\n",
        "def load_test():\n",
        "    df1 = pd.read_csv(test_file, delimiter=',')\n",
        "\n",
        "    df1.dropna(inplace=True)\n",
        "    df1 = df1.reset_index()  # make sure indexes pair with number of rows\n",
        "\n",
        "    return [[normalizeString(row['nl']), normalizeString(row['code'])] for index, row in df1.iterrows()]\n",
        "\n",
        "sum_accuracies = 0.0\n",
        "test_pairs = load_test()\n",
        "sum_accuracies = evaluatePrecision(test_pairs, encoder1, attn_decoder1, MAX_LENGTH)\n",
        "print('----------------------------------------')\n",
        "print(f'parametros: {params_names}')\n",
        "print('Train dataset: %s, test dataset: %s' % (train_file, test_file))\n",
        "print('média de acurácia: %.2f%%' % (sum_accuracies))\n",
        "print('Tamanho dataset %d, tamanho testes: %d' % (len(pairs), len(test_pairs)))\n",
        "lst = [[item.lower().split(' ')] for item in model_output_list]\n",
        "lst2 = [item.lower().split(' ') for item in expected_list]\n",
        "\n",
        "bleu_score_result = bleu_score(lst2, lst)\n",
        "print('bleu score %.2f' % (bleu_score_result * 100))\n",
        "\n",
        "#save_model()"
      ],
      "metadata": {
        "colab": {
          "base_uri": "https://localhost:8080/"
        },
        "id": "U4tH9TRoV95k",
        "outputId": "9d711ae5-6c64-4790-9344-73710d4998fc"
      },
      "execution_count": 83,
      "outputs": [
        {
          "output_type": "stream",
          "name": "stderr",
          "text": [
            "iteracao: 1804 / 1805: : 90200.0it [00:37, 2420.30it/s]\n"
          ]
        },
        {
          "output_type": "stream",
          "name": "stdout",
          "text": [
            "total testado: 1805\n",
            "total correto: 793\n",
            "exact match accuracy: 43.93%\n",
            "----------------------------------------\n",
            "parametros: 500k_256hidden__dropout-10percent_adam_0.0003_nolinearenc2\n",
            "Train dataset: django_train2.csv, test dataset: django_test2.csv\n",
            "média de acurácia: 43.93%\n",
            "Tamanho dataset 16000, tamanho testes: 1805\n",
            "bleu score 26.91\n"
          ]
        }
      ]
    },
    {
      "cell_type": "code",
      "source": [
        "from torchtext.data.metrics import bleu_score\n",
        "\n",
        "def load_test():\n",
        "    #df1 = pd.read_csv('django_data_test.csv', delimiter=',')\n",
        "    df1 = pd.read_csv(test_file, delimiter=',')\n",
        "\n",
        "    df1.dropna(inplace=True)\n",
        "    df1 = df1.reset_index()  # make sure indexes pair with number of rows\n",
        "\n",
        "    return [[normalizeString(row['nl']), normalizeString(row['code'])] for index, row in df1.iterrows()]\n",
        "    \n",
        "def divide_chunks(l, n):\n",
        "     \n",
        "    # looping till length l\n",
        "    for i in range(0, len(l), n):\n",
        "        yield l[i:i + n]\n",
        " \n",
        "# How many elements each\n",
        "# list should have\n",
        "n = int(len(pairs) / 10)\n",
        " \n",
        "x = list(divide_chunks(pairs, n))\n",
        "\n",
        "#print (x)\n",
        "sum_accuracies = 0.0\n",
        "sum_accuracies = evaluatePrecision(load_test(), encoder1, attn_decoder1, MAX_LENGTH)\n",
        "#for i in range(len(x)-1):\n",
        "#  l = x[i]\n",
        "#  sum_accuracies+=evaluatePrecision(l, encoder1, attn_decoder1)\n",
        "#  break"
      ],
      "metadata": {
        "colab": {
          "base_uri": "https://localhost:8080/"
        },
        "id": "HarVXYLLLVB2",
        "outputId": "6cb1f160-5e28-417b-be67-865785c19f97"
      },
      "execution_count": 68,
      "outputs": [
        {
          "output_type": "stream",
          "name": "stderr",
          "text": [
            "iteracao: 1804 / 1805: : 90200.0it [00:35, 2554.95it/s]"
          ]
        },
        {
          "output_type": "stream",
          "name": "stdout",
          "text": [
            "total testado: 1805\n",
            "total correto: 781\n",
            "exact match accuracy: 43.27%\n"
          ]
        },
        {
          "output_type": "stream",
          "name": "stderr",
          "text": [
            "\n"
          ]
        }
      ]
    },
    {
      "cell_type": "markdown",
      "source": [
        "Resultados obtidos e hyperparâmetros utilizados:\n",
        "\n",
        "\n",
        "parametros: 75k_256hidden__dropout-10percent_adam_0.0003_nolinearenc Train dataset: django_train2.csv, test dataset: django_test2.csv média de acurácia: 33.63% bleu score 22.58\n",
        "\n",
        "paramentros: 300k_256hidden__dropout-20percent_adam_0.0003_nolinearenc Train dataset: django_train2.csv, test dataset: django_test2.csv média de acurácia: 41.77% bleu score 38.60\n",
        "\n",
        "parametros: 500k_256hidden__dropout-20percent_adam_0.0003_nolinearenc Train dataset: django_train2.csv, test dataset: django_test2.csv média de acurácia: 44.10% bleu score 40.83\n",
        "\n",
        "parametros: 500k_256hidden__dropout-10percent_adam_0.0003_nolinearenc Train dataset: django_train2.csv, test dataset: django_test2.csv média de acurácia: 44.10% Tamanho dataset 16000, tamanho testes: 1805 bleu score 42.28"
      ],
      "metadata": {
        "id": "Otn_XobPZPo9"
      }
    },
    {
      "cell_type": "code",
      "source": [
        "print('----------------------------------------')\n",
        "print(f'parametros: {params_names}')\n",
        "print('Train dataset: %s, test dataset: %s' % (train_file, test_file))\n",
        "print('média de acurácia: %.2f%%' % (sum_accuracies))\n",
        "print('Tamanho dataset %d, tamanho testes: %d' % (len(pairs), len(expected_list)))\n",
        "#print('média de acurácia: %.2f%%' % (sum_accuracies/(len(x)-1)))\n",
        "lst = [[item.lower().split(' ')] for item in model_output_list]\n",
        "lst2 = [item.lower().split(' ') for item in expected_list]\n",
        "\n",
        "bleu_score_result = bleu_score(lst2, lst)\n",
        "print('bleu score %.2f' % (bleu_score_result * 100))"
      ],
      "metadata": {
        "colab": {
          "base_uri": "https://localhost:8080/"
        },
        "id": "fu-ltSbDW_8b",
        "outputId": "3a1833f7-3c28-4dc9-f21c-7762d0fb7d21"
      },
      "execution_count": 69,
      "outputs": [
        {
          "output_type": "stream",
          "name": "stdout",
          "text": [
            "----------------------------------------\n",
            "parametros: 500k_256hidden__dropout-10percent_adam_0.0003_nolinearenc2\n",
            "Train dataset: django_train2.csv, test dataset: django_test2.csv\n",
            "média de acurácia: 43.27%\n",
            "Tamanho dataset 16000, tamanho testes: 7220\n",
            "bleu score 26.87\n"
          ]
        }
      ]
    },
    {
      "cell_type": "code",
      "source": [
        "def showAttention(input_sentence, output_words, attentions):\n",
        "    # Set up figure with colorbar\n",
        "    fig = plt.figure()\n",
        "    ax = fig.add_subplot(111)\n",
        "    cax = ax.matshow(attentions.numpy(), cmap='bone')\n",
        "    fig.colorbar(cax)\n",
        "\n",
        "    # Set up axes\n",
        "    ax.set_xticklabels([''] + input_sentence.split(' ') +\n",
        "                       ['<EOS>'], rotation=90)\n",
        "    ax.set_yticklabels([''] + output_words)\n",
        "\n",
        "    # Show label at every tick\n",
        "    ax.xaxis.set_major_locator(ticker.MultipleLocator(1))\n",
        "    ax.yaxis.set_major_locator(ticker.MultipleLocator(1))\n",
        "\n",
        "    plt.show()\n",
        "\n",
        "\n",
        "def evaluateAndShowAttention(input_sentence):\n",
        "    output_words, attentions = evaluate(\n",
        "        encoder1, attn_decoder1, input_sentence, MAX_LENGTH)\n",
        "    print('input =', input_sentence)\n",
        "    print('output =', ' '.join(output_words))\n",
        "    showAttention(input_sentence, output_words, attentions)\n",
        "\n",
        "\n",
        "evaluateAndShowAttention(\"for every f in opts local fields that has an post create sql attribute append f to a list substitute the resulting list for post sql fields \")\n"
      ],
      "metadata": {
        "colab": {
          "base_uri": "https://localhost:8080/",
          "height": 1000
        },
        "id": "7KEM8mFwW58-",
        "outputId": "21101cea-1011-48a7-a10a-b0a401949aab"
      },
      "execution_count": 64,
      "outputs": [
        {
          "output_type": "stream",
          "name": "stderr",
          "text": [
            "<ipython-input-64-56a0e5041982>:9: UserWarning: FixedFormatter should only be used together with FixedLocator\n",
            "  ax.set_xticklabels([''] + input_sentence.split(' ') +\n",
            "<ipython-input-64-56a0e5041982>:11: UserWarning: FixedFormatter should only be used together with FixedLocator\n",
            "  ax.set_yticklabels([''] + output_words)\n",
            "WARNING:matplotlib.ticker:Locator attempting to generate 2777 ticks ([-1.0, ..., 2775.0]), which exceeds Locator.MAXTICKS (1000).\n"
          ]
        },
        {
          "output_type": "stream",
          "name": "stdout",
          "text": [
            "input = for every f in opts local fields that has an post create sql attribute append f to a list substitute the resulting list for post sql fields \n",
            "output = post sql post f for f in opts fields if hasattr f post render  <EOS>\n"
          ]
        },
        {
          "output_type": "stream",
          "name": "stderr",
          "text": [
            "WARNING:matplotlib.ticker:Locator attempting to generate 2777 ticks ([-1.0, ..., 2775.0]), which exceeds Locator.MAXTICKS (1000).\n",
            "WARNING:matplotlib.ticker:Locator attempting to generate 2777 ticks ([-1.0, ..., 2775.0]), which exceeds Locator.MAXTICKS (1000).\n",
            "WARNING:matplotlib.ticker:Locator attempting to generate 2777 ticks ([-1.0, ..., 2775.0]), which exceeds Locator.MAXTICKS (1000).\n",
            "WARNING:matplotlib.ticker:Locator attempting to generate 2777 ticks ([-1.0, ..., 2775.0]), which exceeds Locator.MAXTICKS (1000).\n",
            "WARNING:matplotlib.ticker:Locator attempting to generate 2777 ticks ([-1.0, ..., 2775.0]), which exceeds Locator.MAXTICKS (1000).\n",
            "WARNING:matplotlib.ticker:Locator attempting to generate 2777 ticks ([-1.0, ..., 2775.0]), which exceeds Locator.MAXTICKS (1000).\n",
            "WARNING:matplotlib.ticker:Locator attempting to generate 2777 ticks ([-1.0, ..., 2775.0]), which exceeds Locator.MAXTICKS (1000).\n",
            "WARNING:matplotlib.ticker:Locator attempting to generate 2777 ticks ([-1.0, ..., 2775.0]), which exceeds Locator.MAXTICKS (1000).\n",
            "WARNING:matplotlib.ticker:Locator attempting to generate 2777 ticks ([-1.0, ..., 2775.0]), which exceeds Locator.MAXTICKS (1000).\n",
            "WARNING:matplotlib.ticker:Locator attempting to generate 2777 ticks ([-1.0, ..., 2775.0]), which exceeds Locator.MAXTICKS (1000).\n",
            "WARNING:matplotlib.ticker:Locator attempting to generate 2777 ticks ([-1.0, ..., 2775.0]), which exceeds Locator.MAXTICKS (1000).\n",
            "WARNING:matplotlib.ticker:Locator attempting to generate 2777 ticks ([-1.0, ..., 2775.0]), which exceeds Locator.MAXTICKS (1000).\n",
            "WARNING:matplotlib.ticker:Locator attempting to generate 2777 ticks ([-1.0, ..., 2775.0]), which exceeds Locator.MAXTICKS (1000).\n",
            "WARNING:matplotlib.ticker:Locator attempting to generate 2777 ticks ([-1.0, ..., 2775.0]), which exceeds Locator.MAXTICKS (1000).\n",
            "WARNING:matplotlib.ticker:Locator attempting to generate 2777 ticks ([-1.0, ..., 2775.0]), which exceeds Locator.MAXTICKS (1000).\n",
            "WARNING:matplotlib.ticker:Locator attempting to generate 2777 ticks ([-1.0, ..., 2775.0]), which exceeds Locator.MAXTICKS (1000).\n",
            "WARNING:matplotlib.ticker:Locator attempting to generate 2777 ticks ([-1.0, ..., 2775.0]), which exceeds Locator.MAXTICKS (1000).\n",
            "WARNING:matplotlib.ticker:Locator attempting to generate 2777 ticks ([-1.0, ..., 2775.0]), which exceeds Locator.MAXTICKS (1000).\n",
            "WARNING:matplotlib.ticker:Locator attempting to generate 2777 ticks ([-1.0, ..., 2775.0]), which exceeds Locator.MAXTICKS (1000).\n",
            "WARNING:matplotlib.ticker:Locator attempting to generate 2777 ticks ([-1.0, ..., 2775.0]), which exceeds Locator.MAXTICKS (1000).\n",
            "WARNING:matplotlib.ticker:Locator attempting to generate 2777 ticks ([-1.0, ..., 2775.0]), which exceeds Locator.MAXTICKS (1000).\n",
            "WARNING:matplotlib.ticker:Locator attempting to generate 2777 ticks ([-1.0, ..., 2775.0]), which exceeds Locator.MAXTICKS (1000).\n",
            "WARNING:matplotlib.ticker:Locator attempting to generate 2777 ticks ([-1.0, ..., 2775.0]), which exceeds Locator.MAXTICKS (1000).\n",
            "WARNING:matplotlib.ticker:Locator attempting to generate 2777 ticks ([-1.0, ..., 2775.0]), which exceeds Locator.MAXTICKS (1000).\n",
            "WARNING:matplotlib.ticker:Locator attempting to generate 2777 ticks ([-1.0, ..., 2775.0]), which exceeds Locator.MAXTICKS (1000).\n",
            "WARNING:matplotlib.ticker:Locator attempting to generate 2777 ticks ([-1.0, ..., 2775.0]), which exceeds Locator.MAXTICKS (1000).\n",
            "WARNING:matplotlib.ticker:Locator attempting to generate 2777 ticks ([-1.0, ..., 2775.0]), which exceeds Locator.MAXTICKS (1000).\n",
            "WARNING:matplotlib.ticker:Locator attempting to generate 2777 ticks ([-1.0, ..., 2775.0]), which exceeds Locator.MAXTICKS (1000).\n",
            "WARNING:matplotlib.ticker:Locator attempting to generate 2777 ticks ([-1.0, ..., 2775.0]), which exceeds Locator.MAXTICKS (1000).\n",
            "WARNING:matplotlib.ticker:Locator attempting to generate 2777 ticks ([-1.0, ..., 2775.0]), which exceeds Locator.MAXTICKS (1000).\n",
            "WARNING:matplotlib.ticker:Locator attempting to generate 2777 ticks ([-1.0, ..., 2775.0]), which exceeds Locator.MAXTICKS (1000).\n",
            "WARNING:matplotlib.ticker:Locator attempting to generate 2777 ticks ([-1.0, ..., 2775.0]), which exceeds Locator.MAXTICKS (1000).\n",
            "WARNING:matplotlib.ticker:Locator attempting to generate 2777 ticks ([-1.0, ..., 2775.0]), which exceeds Locator.MAXTICKS (1000).\n",
            "WARNING:matplotlib.ticker:Locator attempting to generate 2777 ticks ([-1.0, ..., 2775.0]), which exceeds Locator.MAXTICKS (1000).\n",
            "WARNING:matplotlib.ticker:Locator attempting to generate 2777 ticks ([-1.0, ..., 2775.0]), which exceeds Locator.MAXTICKS (1000).\n",
            "WARNING:matplotlib.ticker:Locator attempting to generate 2777 ticks ([-1.0, ..., 2775.0]), which exceeds Locator.MAXTICKS (1000).\n",
            "WARNING:matplotlib.ticker:Locator attempting to generate 2777 ticks ([-1.0, ..., 2775.0]), which exceeds Locator.MAXTICKS (1000).\n",
            "WARNING:matplotlib.ticker:Locator attempting to generate 2777 ticks ([-1.0, ..., 2775.0]), which exceeds Locator.MAXTICKS (1000).\n",
            "WARNING:matplotlib.ticker:Locator attempting to generate 2777 ticks ([-1.0, ..., 2775.0]), which exceeds Locator.MAXTICKS (1000).\n",
            "WARNING:matplotlib.ticker:Locator attempting to generate 2777 ticks ([-1.0, ..., 2775.0]), which exceeds Locator.MAXTICKS (1000).\n",
            "WARNING:matplotlib.ticker:Locator attempting to generate 2777 ticks ([-1.0, ..., 2775.0]), which exceeds Locator.MAXTICKS (1000).\n",
            "WARNING:matplotlib.ticker:Locator attempting to generate 2777 ticks ([-1.0, ..., 2775.0]), which exceeds Locator.MAXTICKS (1000).\n",
            "WARNING:matplotlib.ticker:Locator attempting to generate 2777 ticks ([-1.0, ..., 2775.0]), which exceeds Locator.MAXTICKS (1000).\n",
            "WARNING:matplotlib.ticker:Locator attempting to generate 2777 ticks ([-1.0, ..., 2775.0]), which exceeds Locator.MAXTICKS (1000).\n",
            "WARNING:matplotlib.ticker:Locator attempting to generate 2777 ticks ([-1.0, ..., 2775.0]), which exceeds Locator.MAXTICKS (1000).\n",
            "WARNING:matplotlib.ticker:Locator attempting to generate 2777 ticks ([-1.0, ..., 2775.0]), which exceeds Locator.MAXTICKS (1000).\n",
            "WARNING:matplotlib.ticker:Locator attempting to generate 2777 ticks ([-1.0, ..., 2775.0]), which exceeds Locator.MAXTICKS (1000).\n",
            "WARNING:matplotlib.ticker:Locator attempting to generate 2777 ticks ([-1.0, ..., 2775.0]), which exceeds Locator.MAXTICKS (1000).\n",
            "WARNING:matplotlib.ticker:Locator attempting to generate 2777 ticks ([-1.0, ..., 2775.0]), which exceeds Locator.MAXTICKS (1000).\n",
            "WARNING:matplotlib.ticker:Locator attempting to generate 2777 ticks ([-1.0, ..., 2775.0]), which exceeds Locator.MAXTICKS (1000).\n",
            "WARNING:matplotlib.ticker:Locator attempting to generate 2777 ticks ([-1.0, ..., 2775.0]), which exceeds Locator.MAXTICKS (1000).\n",
            "WARNING:matplotlib.ticker:Locator attempting to generate 2777 ticks ([-1.0, ..., 2775.0]), which exceeds Locator.MAXTICKS (1000).\n",
            "WARNING:matplotlib.ticker:Locator attempting to generate 2777 ticks ([-1.0, ..., 2775.0]), which exceeds Locator.MAXTICKS (1000).\n",
            "WARNING:matplotlib.ticker:Locator attempting to generate 2777 ticks ([-1.0, ..., 2775.0]), which exceeds Locator.MAXTICKS (1000).\n",
            "WARNING:matplotlib.ticker:Locator attempting to generate 2777 ticks ([-1.0, ..., 2775.0]), which exceeds Locator.MAXTICKS (1000).\n",
            "WARNING:matplotlib.ticker:Locator attempting to generate 2777 ticks ([-1.0, ..., 2775.0]), which exceeds Locator.MAXTICKS (1000).\n",
            "WARNING:matplotlib.ticker:Locator attempting to generate 2777 ticks ([-1.0, ..., 2775.0]), which exceeds Locator.MAXTICKS (1000).\n",
            "WARNING:matplotlib.ticker:Locator attempting to generate 2777 ticks ([-1.0, ..., 2775.0]), which exceeds Locator.MAXTICKS (1000).\n",
            "WARNING:matplotlib.ticker:Locator attempting to generate 2777 ticks ([-1.0, ..., 2775.0]), which exceeds Locator.MAXTICKS (1000).\n",
            "WARNING:matplotlib.ticker:Locator attempting to generate 2777 ticks ([-1.0, ..., 2775.0]), which exceeds Locator.MAXTICKS (1000).\n",
            "WARNING:matplotlib.ticker:Locator attempting to generate 2777 ticks ([-1.0, ..., 2775.0]), which exceeds Locator.MAXTICKS (1000).\n",
            "WARNING:matplotlib.ticker:Locator attempting to generate 2777 ticks ([-1.0, ..., 2775.0]), which exceeds Locator.MAXTICKS (1000).\n",
            "WARNING:matplotlib.ticker:Locator attempting to generate 2777 ticks ([-1.0, ..., 2775.0]), which exceeds Locator.MAXTICKS (1000).\n",
            "WARNING:matplotlib.ticker:Locator attempting to generate 2777 ticks ([-1.0, ..., 2775.0]), which exceeds Locator.MAXTICKS (1000).\n",
            "WARNING:matplotlib.ticker:Locator attempting to generate 2777 ticks ([-1.0, ..., 2775.0]), which exceeds Locator.MAXTICKS (1000).\n",
            "WARNING:matplotlib.ticker:Locator attempting to generate 2777 ticks ([-1.0, ..., 2775.0]), which exceeds Locator.MAXTICKS (1000).\n",
            "WARNING:matplotlib.ticker:Locator attempting to generate 2777 ticks ([-1.0, ..., 2775.0]), which exceeds Locator.MAXTICKS (1000).\n",
            "WARNING:matplotlib.ticker:Locator attempting to generate 2777 ticks ([-1.0, ..., 2775.0]), which exceeds Locator.MAXTICKS (1000).\n"
          ]
        },
        {
          "output_type": "display_data",
          "data": {
            "text/plain": [
              "<Figure size 432x288 with 2 Axes>"
            ],
            "image/png": "[encoded data removed]"
          },
          "metadata": {
            "needs_background": "light"
          }
        }
      ]
    }
  ]
}